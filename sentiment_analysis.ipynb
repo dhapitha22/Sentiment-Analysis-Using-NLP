{
  "nbformat": 4,
  "nbformat_minor": 0,
  "metadata": {
    "colab": {
      "provenance": [],
      "authorship_tag": "ABX9TyOyGF8qSaKvwIPwGxCMXa4+",
      "include_colab_link": true
    },
    "kernelspec": {
      "name": "python3",
      "display_name": "Python 3"
    },
    "language_info": {
      "name": "python"
    }
  },
  "cells": [
    {
      "cell_type": "markdown",
      "metadata": {
        "id": "view-in-github",
        "colab_type": "text"
      },
      "source": [
        "<a href=\"https://colab.research.google.com/github/dhapitha22/Sentiment-Analysis-Using-NLP/blob/main/sentiment_analysis.ipynb\" target=\"_parent\"><img src=\"https://colab.research.google.com/assets/colab-badge.svg\" alt=\"Open In Colab\"/></a>"
      ]
    },
    {
      "cell_type": "markdown",
      "source": [
        "# **Sentiment Analysis Using NLP**\n",
        "# **Problem Statement**\n",
        "\n",
        "The problem at hand is to develop an end-to-end NLP solution for sentiment analysis of customer reviews in the film industry. The goal is to accurately group movie reviews as positive or negative based on the sentiment expressed in the text. By this NLP solution, the company can benefit in the following ways:\n",
        "\n",
        "*   **Improved Customer Satisfaction:** Analyzing customer sentiment allows the company to identify areas of improvement in their movies. By understanding customer preferences and addressing any negative sentiments, the company can enhance the overall movie-watching experience and increase customer satisfaction.\n",
        "*   **Strategic Decision Making:** Accurate sentiment analysis helps the company make informed decisions regarding movie production, marketing campaigns, and release strategies. Positive sentiment can indicate successful aspects of movies that can be capitalized on, while negative sentiment can guide the company in making necessary changes.\n",
        "\n",
        "The key objective of this project is to build a detailed report or documentation that outlines the design and implementation of a data science pipeline. The primary aim is to address a specific problem while leveraging the role of a data scientist. By successfully executing this project, the company will be equipped with valuable customer insights, leading to improved decision-making processes and enhanced customer satisfaction."
      ],
      "metadata": {
        "id": "cooUCywHocW3"
      }
    },
    {
      "cell_type": "markdown",
      "source": [
        "# **Data Collection**\n",
        "##**Data set**\n",
        "In this project, we will make use of the \"IMDB Movie Reviews\" dataset, which is readily available on Kaggle. The dataset comprises 50,000 movie reviews sourced from IMDB, with each review labeled according to its sentiment polarity (positive or negative). Our focus will be on utilizing the review text as input for sentiment analysis.\n",
        "\n",
        "> data set - https://www.kaggle.com/lakshmi25npathi/imdb-dataset-of-50k-movie-reviews\n",
        "\n",
        "\n",
        "\n",
        "In the given dataset, the \"review\" column represents the input features, which contain textual information extracted from movie reviews. The \"sentiment\" column serves as the output label, indicating the sentiment associated with each review. The objective of our classifier is to accurately predict the \"sentiment\" category based on the corresponding \"review\" text.\n",
        "\n"
      ],
      "metadata": {
        "id": "G73H6nGmD0E2"
      }
    },
    {
      "cell_type": "markdown",
      "source": [
        "# **Designing and implementing**"
      ],
      "metadata": {
        "id": "UoFE5_YrINfc"
      }
    },
    {
      "cell_type": "markdown",
      "source": [
        "# **Import the necessary libraries**\n",
        "To begin implementing any algorithm, the first step involves importing the required libraries. In the code segment provided below, the necessary libraries for high-performance calculations, computing, data visualization, and styling are imported. Moreover, any unwanted warnings are suppressed to ensure the code executes smoothly."
      ],
      "metadata": {
        "id": "zyrZOa7vIR2w"
      }
    },
    {
      "cell_type": "code",
      "execution_count": null,
      "metadata": {
        "id": "LxlJDrd0oQZY"
      },
      "outputs": [],
      "source": [
        "import numpy as np\n",
        "import pandas as pd\n",
        "from matplotlib import rcParams\n",
        "import seaborn as sns\n",
        "import matplotlib.pyplot as plt\n",
        "import seaborn as sns\n",
        "import nltk\n",
        "from nltk.corpus import stopwords\n",
        "from nltk.stem import WordNetLemmatizer\n",
        "from nltk.tokenize import word_tokenize\n",
        "import re\n",
        "from sklearn.feature_extraction.text import TfidfVectorizer\n",
        "from sklearn.feature_extraction.text import CountVectorizer\n",
        "from sklearn.model_selection import train_test_split\n",
        "from sklearn.naive_bayes import MultinomialNB\n",
        "from sklearn.model_selection import GridSearchCV\n",
        "from sklearn.metrics import accuracy_score\n",
        "from sklearn.linear_model import LogisticRegression\n",
        "from sklearn.model_selection import RandomizedSearchCV\n",
        "from scipy.stats import uniform\n",
        "from sklearn.linear_model import LogisticRegression\n",
        "from sklearn.metrics import accuracy_score\n",
        "from sklearn.naive_bayes import MultinomialNB\n",
        "from sklearn.metrics import confusion_matrix\n",
        "from sklearn.metrics import classification_report"
      ]
    },
    {
      "cell_type": "markdown",
      "source": [
        "# **Read the Dataset**"
      ],
      "metadata": {
        "id": "ijTrngZ_JA3B"
      }
    },
    {
      "cell_type": "code",
      "source": [
        "data_set=pd.read_csv('IMDB_Dataset.csv')"
      ],
      "metadata": {
        "id": "X3yn09xaJH5m"
      },
      "execution_count": null,
      "outputs": []
    },
    {
      "cell_type": "markdown",
      "source": [
        "# **Show the dataset**"
      ],
      "metadata": {
        "id": "PduBZr5GmiBf"
      }
    },
    {
      "cell_type": "code",
      "source": [
        "data_set.head()"
      ],
      "metadata": {
        "colab": {
          "base_uri": "https://localhost:8080/",
          "height": 206
        },
        "id": "_GtnyyHhmqka",
        "outputId": "c4846b94-865c-4b77-d6d1-4147d91a6060"
      },
      "execution_count": null,
      "outputs": [
        {
          "output_type": "execute_result",
          "data": {
            "text/plain": [
              "                                              review sentiment\n",
              "0  One of the other reviewers has mentioned that ...  positive\n",
              "1  A wonderful little production. <br /><br />The...  positive\n",
              "2  I thought this was a wonderful way to spend ti...  positive\n",
              "3  Basically there's a family where a little boy ...  negative\n",
              "4  Petter Mattei's \"Love in the Time of Money\" is...  positive"
            ],
            "text/html": [
              "\n",
              "  <div id=\"df-97b4c2b7-ef0f-44cb-a30f-2c9953c237af\">\n",
              "    <div class=\"colab-df-container\">\n",
              "      <div>\n",
              "<style scoped>\n",
              "    .dataframe tbody tr th:only-of-type {\n",
              "        vertical-align: middle;\n",
              "    }\n",
              "\n",
              "    .dataframe tbody tr th {\n",
              "        vertical-align: top;\n",
              "    }\n",
              "\n",
              "    .dataframe thead th {\n",
              "        text-align: right;\n",
              "    }\n",
              "</style>\n",
              "<table border=\"1\" class=\"dataframe\">\n",
              "  <thead>\n",
              "    <tr style=\"text-align: right;\">\n",
              "      <th></th>\n",
              "      <th>review</th>\n",
              "      <th>sentiment</th>\n",
              "    </tr>\n",
              "  </thead>\n",
              "  <tbody>\n",
              "    <tr>\n",
              "      <th>0</th>\n",
              "      <td>One of the other reviewers has mentioned that ...</td>\n",
              "      <td>positive</td>\n",
              "    </tr>\n",
              "    <tr>\n",
              "      <th>1</th>\n",
              "      <td>A wonderful little production. &lt;br /&gt;&lt;br /&gt;The...</td>\n",
              "      <td>positive</td>\n",
              "    </tr>\n",
              "    <tr>\n",
              "      <th>2</th>\n",
              "      <td>I thought this was a wonderful way to spend ti...</td>\n",
              "      <td>positive</td>\n",
              "    </tr>\n",
              "    <tr>\n",
              "      <th>3</th>\n",
              "      <td>Basically there's a family where a little boy ...</td>\n",
              "      <td>negative</td>\n",
              "    </tr>\n",
              "    <tr>\n",
              "      <th>4</th>\n",
              "      <td>Petter Mattei's \"Love in the Time of Money\" is...</td>\n",
              "      <td>positive</td>\n",
              "    </tr>\n",
              "  </tbody>\n",
              "</table>\n",
              "</div>\n",
              "      <button class=\"colab-df-convert\" onclick=\"convertToInteractive('df-97b4c2b7-ef0f-44cb-a30f-2c9953c237af')\"\n",
              "              title=\"Convert this dataframe to an interactive table.\"\n",
              "              style=\"display:none;\">\n",
              "        \n",
              "  <svg xmlns=\"http://www.w3.org/2000/svg\" height=\"24px\"viewBox=\"0 0 24 24\"\n",
              "       width=\"24px\">\n",
              "    <path d=\"M0 0h24v24H0V0z\" fill=\"none\"/>\n",
              "    <path d=\"M18.56 5.44l.94 2.06.94-2.06 2.06-.94-2.06-.94-.94-2.06-.94 2.06-2.06.94zm-11 1L8.5 8.5l.94-2.06 2.06-.94-2.06-.94L8.5 2.5l-.94 2.06-2.06.94zm10 10l.94 2.06.94-2.06 2.06-.94-2.06-.94-.94-2.06-.94 2.06-2.06.94z\"/><path d=\"M17.41 7.96l-1.37-1.37c-.4-.4-.92-.59-1.43-.59-.52 0-1.04.2-1.43.59L10.3 9.45l-7.72 7.72c-.78.78-.78 2.05 0 2.83L4 21.41c.39.39.9.59 1.41.59.51 0 1.02-.2 1.41-.59l7.78-7.78 2.81-2.81c.8-.78.8-2.07 0-2.86zM5.41 20L4 18.59l7.72-7.72 1.47 1.35L5.41 20z\"/>\n",
              "  </svg>\n",
              "      </button>\n",
              "      \n",
              "  <style>\n",
              "    .colab-df-container {\n",
              "      display:flex;\n",
              "      flex-wrap:wrap;\n",
              "      gap: 12px;\n",
              "    }\n",
              "\n",
              "    .colab-df-convert {\n",
              "      background-color: #E8F0FE;\n",
              "      border: none;\n",
              "      border-radius: 50%;\n",
              "      cursor: pointer;\n",
              "      display: none;\n",
              "      fill: #1967D2;\n",
              "      height: 32px;\n",
              "      padding: 0 0 0 0;\n",
              "      width: 32px;\n",
              "    }\n",
              "\n",
              "    .colab-df-convert:hover {\n",
              "      background-color: #E2EBFA;\n",
              "      box-shadow: 0px 1px 2px rgba(60, 64, 67, 0.3), 0px 1px 3px 1px rgba(60, 64, 67, 0.15);\n",
              "      fill: #174EA6;\n",
              "    }\n",
              "\n",
              "    [theme=dark] .colab-df-convert {\n",
              "      background-color: #3B4455;\n",
              "      fill: #D2E3FC;\n",
              "    }\n",
              "\n",
              "    [theme=dark] .colab-df-convert:hover {\n",
              "      background-color: #434B5C;\n",
              "      box-shadow: 0px 1px 3px 1px rgba(0, 0, 0, 0.15);\n",
              "      filter: drop-shadow(0px 1px 2px rgba(0, 0, 0, 0.3));\n",
              "      fill: #FFFFFF;\n",
              "    }\n",
              "  </style>\n",
              "\n",
              "      <script>\n",
              "        const buttonEl =\n",
              "          document.querySelector('#df-97b4c2b7-ef0f-44cb-a30f-2c9953c237af button.colab-df-convert');\n",
              "        buttonEl.style.display =\n",
              "          google.colab.kernel.accessAllowed ? 'block' : 'none';\n",
              "\n",
              "        async function convertToInteractive(key) {\n",
              "          const element = document.querySelector('#df-97b4c2b7-ef0f-44cb-a30f-2c9953c237af');\n",
              "          const dataTable =\n",
              "            await google.colab.kernel.invokeFunction('convertToInteractive',\n",
              "                                                     [key], {});\n",
              "          if (!dataTable) return;\n",
              "\n",
              "          const docLinkHtml = 'Like what you see? Visit the ' +\n",
              "            '<a target=\"_blank\" href=https://colab.research.google.com/notebooks/data_table.ipynb>data table notebook</a>'\n",
              "            + ' to learn more about interactive tables.';\n",
              "          element.innerHTML = '';\n",
              "          dataTable['output_type'] = 'display_data';\n",
              "          await google.colab.output.renderOutput(dataTable, element);\n",
              "          const docLink = document.createElement('div');\n",
              "          docLink.innerHTML = docLinkHtml;\n",
              "          element.appendChild(docLink);\n",
              "        }\n",
              "      </script>\n",
              "    </div>\n",
              "  </div>\n",
              "  "
            ]
          },
          "metadata": {},
          "execution_count": 3
        }
      ]
    },
    {
      "cell_type": "markdown",
      "source": [
        "# **Examining the distribution of the sentiment class within the given dataset.**"
      ],
      "metadata": {
        "id": "FWIEy6vlnRTz"
      }
    },
    {
      "cell_type": "code",
      "source": [
        "rcParams['figure.figsize'] = 6,4\n",
        "plt.bar(data_set['sentiment'].unique(), data_set['sentiment'].value_counts(), color = ['green', 'red'])\n",
        "plt.xticks(['positive', 'negative'])\n",
        "plt.title('Analyzing the distribution of sentiment labels')\n",
        "plt.xlabel('sentiment')\n",
        "plt.ylabel('quantify')"
      ],
      "metadata": {
        "colab": {
          "base_uri": "https://localhost:8080/",
          "height": 427
        },
        "id": "ocE6ttifnaqI",
        "outputId": "6c265a8b-7578-43eb-c080-9d9260ed8c85"
      },
      "execution_count": null,
      "outputs": [
        {
          "output_type": "execute_result",
          "data": {
            "text/plain": [
              "Text(0, 0.5, 'quantify')"
            ]
          },
          "metadata": {},
          "execution_count": 49
        },
        {
          "output_type": "display_data",
          "data": {
            "text/plain": [
              "<Figure size 600x400 with 1 Axes>"
            ],
            "image/png": "[encoded data removed]"
          },
          "metadata": {}
        }
      ]
    },
    {
      "cell_type": "markdown",
      "source": [
        "The dataset exhibits a balanced distribution between the sentiment positive and negative classes, with each class accounting for approximately 50% of the data. This balanced distribution provides an ideal foundation for training machine learning models. With equal representation of both sentiment classes, the model can effectively learn and generalize patterns associated with each sentiment."
      ],
      "metadata": {
        "id": "el21wYBAtMVl"
      }
    },
    {
      "cell_type": "markdown",
      "source": [
        "# **Analyze the text data in the \"review\" column**"
      ],
      "metadata": {
        "id": "6EB6b4AwwamV"
      }
    },
    {
      "cell_type": "markdown",
      "source": [
        "**Display the length of each review**"
      ],
      "metadata": {
        "id": "lrLbUXDWyEcd"
      }
    },
    {
      "cell_type": "code",
      "source": [
        "data_set['review_length'] = data_set['review'].apply(lambda x: len(x.split()))\n",
        "print(data_set['review_length'].describe())"
      ],
      "metadata": {
        "colab": {
          "base_uri": "https://localhost:8080/"
        },
        "id": "aB8leHBGxeqN",
        "outputId": "43667879-4512-453c-e454-2bcd8f73bcfd"
      },
      "execution_count": null,
      "outputs": [
        {
          "output_type": "stream",
          "name": "stdout",
          "text": [
            "count    50000.000000\n",
            "mean       231.156940\n",
            "std        171.343997\n",
            "min          4.000000\n",
            "25%        126.000000\n",
            "50%        173.000000\n",
            "75%        280.000000\n",
            "max       2470.000000\n",
            "Name: review_length, dtype: float64\n"
          ]
        }
      ]
    },
    {
      "cell_type": "markdown",
      "source": [
        "The dataset comprises 50,000 reviews, with an average length of approximately 231 words. The standard deviation of the review lengths is around 171.34, indicating a moderate amount of variation in the data. The shortest review in the dataset consists of only 4 words, while the longest review contains 2470 words.\n",
        "\n",
        "When examining the distribution of review lengths, it is noteworthy that 25% of the reviews have a length of 126 words or less, while 50% of the reviews have a length of 173 words or less (median value). Additionally, 75% of the reviews are no longer than 280 words. These statistics offer insights into the range, central tendency, and variability of the review lengths within the dataset."
      ],
      "metadata": {
        "id": "icrEPimfzRp2"
      }
    },
    {
      "cell_type": "markdown",
      "source": [
        "**Visualize the review length distribution**"
      ],
      "metadata": {
        "id": "l1k8vPKIyIz_"
      }
    },
    {
      "cell_type": "code",
      "source": [
        "sns.histplot(data_set['review_length'])\n",
        "plt.title('Distribution of Review Length')\n",
        "plt.xlabel('Length of Review')\n",
        "plt.ylabel('quantify')\n",
        "plt.show()"
      ],
      "metadata": {
        "colab": {
          "base_uri": "https://localhost:8080/",
          "height": 410
        },
        "id": "vJvL4-U9wgDx",
        "outputId": "ab0eb8f0-921c-46bc-f14f-f6a60ab3272a"
      },
      "execution_count": null,
      "outputs": [
        {
          "output_type": "display_data",
          "data": {
            "text/plain": [
              "<Figure size 600x400 with 1 Axes>"
            ],
            "image/png": "[encoded data removed]"
          },
          "metadata": {}
        }
      ]
    },
    {
      "cell_type": "markdown",
      "source": [
        "# **visualize the length of each review separately for positive and negative sentiments**"
      ],
      "metadata": {
        "id": "t_iy8B3qySy3"
      }
    },
    {
      "cell_type": "markdown",
      "source": [
        "**Split the dataset into two separate subsets based on the sentiment of the reviews**"
      ],
      "metadata": {
        "id": "7vQM4I5u3a8I"
      }
    },
    {
      "cell_type": "code",
      "source": [
        "positive_reviews = data_set[data_set['sentiment'] == 'positive']\n",
        "negative_reviews = data_set[data_set['sentiment'] == 'negative']"
      ],
      "metadata": {
        "id": "zvphnoTl2ZM-"
      },
      "execution_count": null,
      "outputs": []
    },
    {
      "cell_type": "markdown",
      "source": [
        "**Visualize the length distribution of positive reviews and negative review**"
      ],
      "metadata": {
        "id": "wXT1Hfkj4OUK"
      }
    },
    {
      "cell_type": "code",
      "source": [
        "sns.histplot(positive_reviews['review_length'], color='green')\n",
        "plt.title('Positive Reviews Length Distribution')\n",
        "plt.xlabel('Length of Review')\n",
        "plt.ylabel('Count')\n",
        "plt.show()\n",
        "\n",
        "sns.histplot(negative_reviews['review_length'], color='red')\n",
        "plt.title('Negative Reviews Length Distribution')\n",
        "plt.xlabel('Length of Review')\n",
        "plt.ylabel('Count')\n",
        "plt.show()\n",
        "\n"
      ],
      "metadata": {
        "colab": {
          "base_uri": "https://localhost:8080/",
          "height": 803
        },
        "id": "4jeirwpLyYYI",
        "outputId": "4c8d826e-2e9f-4b3a-8cfe-1d6903999cb0"
      },
      "execution_count": null,
      "outputs": [
        {
          "output_type": "display_data",
          "data": {
            "text/plain": [
              "<Figure size 600x400 with 1 Axes>"
            ],
            "image/png": "[encoded data removed]"
          },
          "metadata": {}
        },
        {
          "output_type": "display_data",
          "data": {
            "text/plain": [
              "<Figure size 600x400 with 1 Axes>"
            ],
            "image/png": "[encoded data removed]"
          },
          "metadata": {}
        }
      ]
    },
    {
      "cell_type": "markdown",
      "source": [
        "The analysis of the review lengths for negative and positive reviews reveals interesting insights. In the positive reviews category, which consists of 25,000 reviews, the average length is approximately 232.85 words, with a standard deviation of 177.50. This indicates a moderate amount of variation in review lengths. The shortest positive review is composed of 10 words, while the longest stretches to 2470 words. The quartile analysis shows that 25% of positive reviews have a length of 125 words or less, 50% have a length of 172 words or less (median), and 75% have a length of 284 words or less.\n",
        "\n",
        "On the other hand, the negative reviews, also totaling 25,000, have an average length of around 229.46 words and a slightly lower standard deviation of 164.95. The shortest negative review contains only 4 words, whereas the longest extends to 1522 words. The quartile analysis for negative reviews indicates that 25% have a length of 128 words or less, 50% have a length of 174 words or less (median), and 75% have a length of 278 words or less."
      ],
      "metadata": {
        "id": "S_IePkMD4XyU"
      }
    },
    {
      "cell_type": "markdown",
      "source": [
        "# **Data Preprocessing**"
      ],
      "metadata": {
        "id": "NrTTe6cp5BZ9"
      }
    },
    {
      "cell_type": "markdown",
      "source": [
        "**Lemmatizing:**\n",
        "Lemmatization involves the transformation of words into their base or root form, contributing to text normalization by converting various word variations into their base form. This process aids in achieving text consistency and aligning different word forms for improved analysis and understanding.\n",
        "\n",
        "**Tokenizing:**\n",
        "Tokenizing involves breaking down the text into individual words or tokens. It is a fundamental step in NLP that allows us to analyze and manipulate text on a granular level. Tokenization can be performed using various techniques such as word tokenization or sentence tokenization, depending on the requirements of the task.\n",
        "\n",
        "**Cleaning:**\n",
        "Cleaning the text involves removing unnecessary elements that do not contribute to the overall meaning or analysis. This includes removing stopwords, punctuation marks, URLs, HTML tags, emojis, and expanding abbreviations."
      ],
      "metadata": {
        "id": "68AiGQcWSFTu"
      }
    },
    {
      "cell_type": "markdown",
      "source": [
        "**Download necessary resources**"
      ],
      "metadata": {
        "id": "vE657p65TYop"
      }
    },
    {
      "cell_type": "code",
      "source": [
        "nltk.download('wordnet')\n",
        "nltk.download('punkt')\n",
        "nltk.download('stopwords')"
      ],
      "metadata": {
        "id": "REpRJ73ZTcXL"
      },
      "execution_count": null,
      "outputs": []
    },
    {
      "cell_type": "markdown",
      "source": [
        "**Initialize lemmatizer and stopwords**"
      ],
      "metadata": {
        "id": "k356dRQiTyaz"
      }
    },
    {
      "cell_type": "code",
      "source": [
        "lem_review = WordNetLemmatizer()\n",
        "stopwords_review = set(stopwords.words('english'))"
      ],
      "metadata": {
        "id": "1fdzgEUuT7yv"
      },
      "execution_count": null,
      "outputs": []
    },
    {
      "cell_type": "markdown",
      "source": [
        "**Function to preprocess a single review**"
      ],
      "metadata": {
        "id": "Aca5_RgZUAFW"
      }
    },
    {
      "cell_type": "code",
      "source": [
        "def preprocess_review(review):\n",
        "\n",
        "    wt_reviews = word_tokenize(review)\n",
        "\n",
        "    # Exclude stopwords and perform lemmatization\n",
        "    wt_reviews = [lem_review.lemmatize(token) for token in wt_reviews if token.lower() not in stopwords_review]\n",
        "\n",
        "    wt_reviews = [token for token in wt_reviews if re.match(r'^[a-zA-Z]+$', token)]\n",
        "\n",
        "    preprocessed_review = ' '.join(wt_reviews)\n",
        "\n",
        "    return preprocessed_review\n",
        "\n",
        "#Preprocess positive and negative reviews\n",
        "positive_reviews['preprocessed_review'] = positive_reviews['review'].apply(preprocess_review)\n",
        "negative_reviews['preprocessed_review'] = negative_reviews['review'].apply(preprocess_review)\n"
      ],
      "metadata": {
        "id": "stBZ2Mv1QQHt"
      },
      "execution_count": null,
      "outputs": []
    },
    {
      "cell_type": "markdown",
      "source": [
        "We then define a function preprocess_review that performs the preprocessing steps on a single review. It tokenizes the review using word_tokenize, removes stopwords using the stop_words set, performs lemmatization using lemmatizer.lemmatize, removes punctuation and non-alphabetic characters using a regular expression, and finally joins the tokens back into a single string.\n",
        "\n",
        "Ultimately, we utilize the preprocess_review function on every review in the positive and negative reviews dataframes using the apply method. The preprocessed reviews are then saved in a new column named \"preprocessed_review.\"\n",
        "\n",
        "This code will preprocess the reviews in this dataset by removing stopwords, performing lemmatization, and cleaning the text, making it ready for further analysis or modeling tasks in NLP."
      ],
      "metadata": {
        "id": "p8YUWd9FWIz0"
      }
    },
    {
      "cell_type": "markdown",
      "source": [
        "# **Feature Extraction**"
      ],
      "metadata": {
        "id": "krXmnqLnbyzm"
      }
    },
    {
      "cell_type": "markdown",
      "source": [
        "**Concatenate positive and negative reviews**"
      ],
      "metadata": {
        "id": "SDVD1Pbzqfu5"
      }
    },
    {
      "cell_type": "code",
      "source": [
        "all_reviews = pd.concat([positive_reviews, negative_reviews], ignore_index=True)"
      ],
      "metadata": {
        "id": "WyCt-GADqerO"
      },
      "execution_count": null,
      "outputs": []
    },
    {
      "cell_type": "markdown",
      "source": [
        "**Create training set and testing set**"
      ],
      "metadata": {
        "id": "UzGKoKA_qsJa"
      }
    },
    {
      "cell_type": "code",
      "source": [
        "X = all_reviews['preprocessed_review']\n",
        "y = all_reviews['sentiment']\n",
        "X_train, X_test, y_train, y_test = train_test_split(X, y, test_size=0.2, random_state=42)"
      ],
      "metadata": {
        "id": "fMMObmEyqvvB"
      },
      "execution_count": null,
      "outputs": []
    },
    {
      "cell_type": "markdown",
      "source": [
        "# **TF-IDF feature extraction**"
      ],
      "metadata": {
        "id": "zPPEl2tCm-S2"
      }
    },
    {
      "cell_type": "markdown",
      "source": [
        "TF-IDF (Term Frequency-Inverse Document Frequency) is a feature extraction technique used in NLP to represent text data numerically. In our dataset and NLP pipeline, TF-IDF helps convert the preprocessed movie reviews into numerical representations. It considers the frequency of words in a document and their rarity across the entire dataset. By assigning higher weights to words that are frequent in a document but rare overall, TF-IDF captures important words specific to each movie review. This allows us to represent reviews as numerical vectors and perform sentiment analysis using machine learning models."
      ],
      "metadata": {
        "id": "ms321Rl-li2y"
      }
    },
    {
      "cell_type": "markdown",
      "source": [
        "**Create TF-IDF vectors**"
      ],
      "metadata": {
        "id": "AUpLcdrkq0Tb"
      }
    },
    {
      "cell_type": "code",
      "source": [
        "_tfidf_text = TfidfVectorizer()\n",
        "tfidf_train_data = _tfidf_text.fit_transform(X_train)\n",
        "tfidf_test_data = _tfidf_text.transform(X_test)"
      ],
      "metadata": {
        "id": "w-LuQ9UVrEkI"
      },
      "execution_count": null,
      "outputs": []
    },
    {
      "cell_type": "markdown",
      "source": [
        " **Display the shape of the TF-IDF matrices**"
      ],
      "metadata": {
        "id": "ggPLWrMLq9do"
      }
    },
    {
      "cell_type": "code",
      "source": [
        "print(\"TF-IDF vectors train set:\", tfidf_train_data.shape)\n",
        "print(\"TF-IDF vectors test set\", tfidf_test_data.shape)"
      ],
      "metadata": {
        "id": "83Sg-20io6o0",
        "colab": {
          "base_uri": "https://localhost:8080/"
        },
        "outputId": "85bc57b5-fa1e-49a8-9bc8-f2c4f42be396"
      },
      "execution_count": null,
      "outputs": [
        {
          "output_type": "stream",
          "name": "stdout",
          "text": [
            "TF-IDF vectors train set: (40000, 82451)\n",
            "TF-IDF vectors test set (10000, 82451)\n"
          ]
        }
      ]
    },
    {
      "cell_type": "markdown",
      "source": [
        "To create TF-IDF vectors, we utilize the TfidfVectorizer. This vectorizer is responsible for converting preprocessed reviews into numerical representations suitable for machine learning models. The fit_transform method is applied to the training set, This step involves fitting the vectorizer on the training data and Convert it into TF-IDF vectors. On the other hand, the fit_transform method is used on the testing set to transform the testing data using the previously fitted vectorizer. This ensures that both training and testing data are represented consistently using the TF-IDF approach"
      ],
      "metadata": {
        "id": "RMh-aHHxrSnb"
      }
    },
    {
      "cell_type": "markdown",
      "source": [
        "# **Bag-of-Words representation technique**"
      ],
      "metadata": {
        "id": "9sXPfDufmeLi"
      }
    },
    {
      "cell_type": "code",
      "source": [
        "bow = CountVectorizer()\n",
        "\n",
        "bow_train_data = bow.fit_transform(X_train)\n",
        "bow_test_data = bow.transform(X_test)\n",
        "\n",
        "print(\"Shape of Bag-of-Words train set:\", bow_train_data.shape)\n",
        "print(\"Shape of Bag-of-Words test set:\", bow_test_data.shape)"
      ],
      "metadata": {
        "colab": {
          "base_uri": "https://localhost:8080/"
        },
        "id": "IlDvFLhwkINJ",
        "outputId": "31b6fb45-5db6-4e6e-d942-76edafa2f656"
      },
      "execution_count": null,
      "outputs": [
        {
          "output_type": "stream",
          "name": "stdout",
          "text": [
            "Shape of Bag-of-Words train set: (40000, 82451)\n",
            "Shape of Bag-of-Words test set: (10000, 82451)\n"
          ]
        }
      ]
    },
    {
      "cell_type": "markdown",
      "source": [
        "# **Model Evaluation and Training**"
      ],
      "metadata": {
        "id": "gTrMyqPJtMG9"
      }
    },
    {
      "cell_type": "markdown",
      "source": [
        "Select suitable deep learning or machine learning models for sentiment analysis, such as the Multinomial Naive Bayes classifier or Logistic Regression. Train the chosen models using the training data and fine-tune the model parameters as necessary."
      ],
      "metadata": {
        "id": "-h56oZeB5z0I"
      }
    },
    {
      "cell_type": "markdown",
      "source": [
        "# **Multinomial Naive Bayes classifier**"
      ],
      "metadata": {
        "id": "XUgxah2BxT3g"
      }
    },
    {
      "cell_type": "markdown",
      "source": [
        "The Multinomial Naive Bayes classifier is a extensively used algorithm in text classification tasks, including sentiment analysis. This classifier is especially suitable for dealing with discrete feature counts, which makes it a good fit for text data represented as bag-of-words or TF-IDF vectors.\n",
        "\n",
        "In sentiment analysis, the Multinomial Naive Bayes classifier learns the likelihood of different words occurring in positive or negative sentiments based on the training data.\n",
        "\n",
        "While the MNB classifier's assumptions are simplistic, it often delivers good performance in practice and is known for its fast training and prediction times. However, it may struggle to capture complex relationships between words and may not handle out-of-vocabulary words effectively unless appropriate measures are taken.\n",
        "\n",
        "It's important to note that the MNB classifier is just one of the potential models suitable for sentiment analysis. Other models, such as Logistic Regression, can also be considered based on their performance characteristics and suitability for the specific task at hand."
      ],
      "metadata": {
        "id": "X_tfK8eTxuG_"
      }
    },
    {
      "cell_type": "markdown",
      "source": [
        "**Implementing Multinomial Naive Bayes for sentiment analysis using the TF-IDF features**"
      ],
      "metadata": {
        "id": "uF0sXqb2WTnI"
      }
    },
    {
      "cell_type": "code",
      "source": [
        "mnb = MultinomialNB()\n",
        "mnb_tfidf = mnb.fit(tfidf_train_data, y_train)"
      ],
      "metadata": {
        "id": "XddHfZQo6rok"
      },
      "execution_count": null,
      "outputs": []
    },
    {
      "cell_type": "markdown",
      "source": [
        "**Implementing Multinomial Naive Bayes for sentiment analysis using the BOW representation technique.**"
      ],
      "metadata": {
        "id": "UJHQjindtFLQ"
      }
    },
    {
      "cell_type": "code",
      "source": [
        "bow_naive_bayes = mnb.fit(bow_train_data, y_train)"
      ],
      "metadata": {
        "id": "TQsu37B5tKRV"
      },
      "execution_count": null,
      "outputs": []
    },
    {
      "cell_type": "markdown",
      "source": [
        "**Evaluate the Multinomial Naive Bayes classifier on the testing set**"
      ],
      "metadata": {
        "id": "EucguoQvW2UC"
      }
    },
    {
      "cell_type": "code",
      "source": [
        "nb_accuracy_tfidf = mnb_tfidf.score(tfidf_test_data, y_test)\n",
        "nb_accuracy_bow = bow_naive_bayes.score(bow_test_data, y_test)\n",
        "\n",
        "print(\"Using TF-IDF features to demonstrate the accuracy : {:.2f}%\".format(nb_accuracy_tfidf * 100))\n",
        "print(\"Using Bag-of-Words features to demonstrate the accuracy : {:.2f}%\".format(nb_accuracy_bow * 100))"
      ],
      "metadata": {
        "colab": {
          "base_uri": "https://localhost:8080/"
        },
        "id": "1OkIvjmkVBxi",
        "outputId": "3ec4d553-b914-414a-eed6-de33660bce97"
      },
      "execution_count": null,
      "outputs": [
        {
          "output_type": "stream",
          "name": "stdout",
          "text": [
            "Using TF-IDF features to demonstrate the accuracy : 86.01%\n",
            "Using Bag-of-Words features to demonstrate the accuracy : 86.46%\n"
          ]
        }
      ]
    },
    {
      "cell_type": "markdown",
      "source": [
        "**Visualize the confusion matrix**"
      ],
      "metadata": {
        "id": "ByLt4J5_ZLed"
      }
    },
    {
      "cell_type": "code",
      "source": [
        "_predicted_labels = mnb_tfidf.predict(tfidf_test_data)\n",
        "confusion_ = confusion_matrix(y_test, _predicted_labels)\n",
        "sns.heatmap(confusion_, annot=True, cmap=\"Blues\", fmt=\"d\")\n",
        "\n",
        "\n",
        "plt.ylabel(\"True Labels\")\n",
        "plt.title(\"TF-IDF features\")\n",
        "plt.xticks(ticks=[0, 1], labels=[\"Negative\", \"Positive\"])\n",
        "plt.yticks(ticks=[0, 1], labels=[\"Negative\", \"Positive\"])\n",
        "\n",
        "plt.show()\n",
        "\n",
        "predicted_labels = bow_naive_bayes.predict(bow_test_data)\n",
        "cm_bow = confusion_matrix(y_test, predicted_labels)\n",
        "sns.heatmap(cm_bow, annot=True, cmap=\"Blues\", fmt=\"d\")\n",
        "\n",
        "\n",
        "plt.ylabel(\"True Labels\")\n",
        "plt.title(\"Bag-of-Words\")\n",
        "plt.xticks(ticks=[0, 1], labels=[\"Negative\", \"Positive\"])\n",
        "plt.yticks(ticks=[0, 1], labels=[\"Negative\", \"Positive\"])\n",
        "\n",
        "plt.show()\n"
      ],
      "metadata": {
        "colab": {
          "base_uri": "https://localhost:8080/",
          "height": 781
        },
        "id": "b723Tn9RXqvA",
        "outputId": "59b29cdd-5b48-429a-cb55-3b21204b8680"
      },
      "execution_count": null,
      "outputs": [
        {
          "output_type": "display_data",
          "data": {
            "text/plain": [
              "<Figure size 600x400 with 2 Axes>"
            ],
            "image/png": "[encoded data removed]"
          },
          "metadata": {}
        },
        {
          "output_type": "display_data",
          "data": {
            "text/plain": [
              "<Figure size 600x400 with 2 Axes>"
            ],
            "image/png": "[encoded data removed]"
          },
          "metadata": {}
        }
      ]
    },
    {
      "cell_type": "markdown",
      "source": [
        "# **LogisticRegression**"
      ],
      "metadata": {
        "id": "W1aRSxdnwR2R"
      }
    },
    {
      "cell_type": "markdown",
      "source": [
        "Logistic Regression is a extensively used statistical model that is significantly effective for binary classification tasks, making it highly suitable for sentiment analysis. It is a simple yet effective algorithm that predicts the probability of text belonging to a positive or negative sentiment class. Its simplicity allows for easy implementation and interpretation, while its probability output provides insights into the confidence of the classification. Logistic Regression models also reveal feature importance, highlighting the words or phrases that strongly contribute to the sentiment classification. Moreover, its computational efficiency makes it well-suited for handling large amounts of text data, enabling efficient processing and analysis. While Logistic Regression is a widely used algorithm, it's important to consider other factors such as dataset nature and desired trade-offs between complexity and interpretability when choosing the best approach for sentiment analysis."
      ],
      "metadata": {
        "id": "1w1R4oAVxKTs"
      }
    },
    {
      "cell_type": "markdown",
      "source": [
        "**Create and fit a Logistic Regression classifier**"
      ],
      "metadata": {
        "id": "EGmBc7Dlx8Ag"
      }
    },
    {
      "cell_type": "code",
      "source": [
        "LR_clf = LogisticRegression()\n",
        "\n",
        "tfidf_LR = LR_clf.fit(tfidf_train_data, y_train)\n",
        "bow_LR = LR_clf.fit(bow_train_data, y_train)"
      ],
      "metadata": {
        "id": "7FBUS5P-yAUR"
      },
      "execution_count": null,
      "outputs": []
    },
    {
      "cell_type": "markdown",
      "source": [
        "**Predict the sentiment for the test data**"
      ],
      "metadata": {
        "id": "yyinEz_tyi9Y"
      }
    },
    {
      "cell_type": "code",
      "source": [
        "predicted_labels_tfidf = tfidf_LR.predict(tfidf_test_data)\n",
        "predicted_labels_bow = bow_LR.predict(bow_test_data)"
      ],
      "metadata": {
        "id": "eyXGu_dhynNE"
      },
      "execution_count": null,
      "outputs": []
    },
    {
      "cell_type": "markdown",
      "source": [
        "**Calculate the accuracy of the classifier**"
      ],
      "metadata": {
        "id": "9_RcCASRyr-5"
      }
    },
    {
      "cell_type": "code",
      "source": [
        "tfidf_acc = accuracy_score(y_test, predicted_labels_tfidf)\n",
        "bow_acc = accuracy_score(y_test, predicted_labels_bow)\n",
        "\n",
        "print(\"Using TF-IDF features:\", tfidf_acc)\n",
        "print(\"Using Bag-of-Words:\", bow_acc)"
      ],
      "metadata": {
        "id": "f_OfTangdDDt",
        "colab": {
          "base_uri": "https://localhost:8080/"
        },
        "outputId": "b676f276-8540-47a4-f9dc-95472a8838c1"
      },
      "execution_count": null,
      "outputs": [
        {
          "output_type": "stream",
          "name": "stdout",
          "text": [
            "Using TF-IDF features: 0.8721\n",
            "Using Bag-of-Words: 0.8854\n"
          ]
        }
      ]
    },
    {
      "cell_type": "markdown",
      "source": [
        "# **Fine-tuning and Hyperparameter Optimization**"
      ],
      "metadata": {
        "id": "Z8bvUubXY7Xf"
      }
    },
    {
      "cell_type": "markdown",
      "source": [
        "**LogisticRegression**"
      ],
      "metadata": {
        "id": "JiYW006Vdtg6"
      }
    },
    {
      "cell_type": "code",
      "source": [
        "logreg = LogisticRegression(solver='lbfgs')\n",
        "\n",
        "param_dist = {'C': uniform(loc=0, scale=10), 'max_iter': [100, 200, 500] }\n",
        "\n",
        "\n",
        "optimized_model = RandomizedSearchCV(logreg, param_distributions=param_dist, n_iter=10, cv=5)\n",
        "\n",
        "logreg = optimized_model.fit(tfidf_train_data, y_train)"
      ],
      "metadata": {
        "id": "mmA9h3T0T1Hf"
      },
      "execution_count": null,
      "outputs": []
    },
    {
      "cell_type": "markdown",
      "source": [
        "**Obtain the optimal hyperparameters and train the model using these hyperparameters**"
      ],
      "metadata": {
        "id": "javbuQcZYLv4"
      }
    },
    {
      "cell_type": "code",
      "source": [
        "optimal_parameters = optimized_model.best_params_\n",
        "print(\"optimal parameters for logistic regression :\", optimal_parameters)\n",
        "\n",
        "optimal_clf = LogisticRegression(solver='lbfgs', **optimal_parameters)\n",
        "optimal_clf.fit(tfidf_train_data, y_train)"
      ],
      "metadata": {
        "colab": {
          "base_uri": "https://localhost:8080/",
          "height": 92
        },
        "id": "HCBZwSXAYQD0",
        "outputId": "c7b17ef4-df0d-4265-fb6d-e0e3b7c26d57"
      },
      "execution_count": null,
      "outputs": [
        {
          "output_type": "stream",
          "name": "stdout",
          "text": [
            "optimal parameters for logistic regression : {'C': 4.623204945351239, 'max_iter': 200}\n"
          ]
        },
        {
          "output_type": "execute_result",
          "data": {
            "text/plain": [
              "LogisticRegression(C=4.623204945351239, max_iter=200)"
            ],
            "text/html": [
              "<style>#sk-container-id-6 {color: black;background-color: white;}#sk-container-id-6 pre{padding: 0;}#sk-container-id-6 div.sk-toggleable {background-color: white;}#sk-container-id-6 label.sk-toggleable__label {cursor: pointer;display: block;width: 100%;margin-bottom: 0;padding: 0.3em;box-sizing: border-box;text-align: center;}#sk-container-id-6 label.sk-toggleable__label-arrow:before {content: \"▸\";float: left;margin-right: 0.25em;color: #696969;}#sk-container-id-6 label.sk-toggleable__label-arrow:hover:before {color: black;}#sk-container-id-6 div.sk-estimator:hover label.sk-toggleable__label-arrow:before {color: black;}#sk-container-id-6 div.sk-toggleable__content {max-height: 0;max-width: 0;overflow: hidden;text-align: left;background-color: #f0f8ff;}#sk-container-id-6 div.sk-toggleable__content pre {margin: 0.2em;color: black;border-radius: 0.25em;background-color: #f0f8ff;}#sk-container-id-6 input.sk-toggleable__control:checked~div.sk-toggleable__content {max-height: 200px;max-width: 100%;overflow: auto;}#sk-container-id-6 input.sk-toggleable__control:checked~label.sk-toggleable__label-arrow:before {content: \"▾\";}#sk-container-id-6 div.sk-estimator input.sk-toggleable__control:checked~label.sk-toggleable__label {background-color: #d4ebff;}#sk-container-id-6 div.sk-label input.sk-toggleable__control:checked~label.sk-toggleable__label {background-color: #d4ebff;}#sk-container-id-6 input.sk-hidden--visually {border: 0;clip: rect(1px 1px 1px 1px);clip: rect(1px, 1px, 1px, 1px);height: 1px;margin: -1px;overflow: hidden;padding: 0;position: absolute;width: 1px;}#sk-container-id-6 div.sk-estimator {font-family: monospace;background-color: #f0f8ff;border: 1px dotted black;border-radius: 0.25em;box-sizing: border-box;margin-bottom: 0.5em;}#sk-container-id-6 div.sk-estimator:hover {background-color: #d4ebff;}#sk-container-id-6 div.sk-parallel-item::after {content: \"\";width: 100%;border-bottom: 1px solid gray;flex-grow: 1;}#sk-container-id-6 div.sk-label:hover label.sk-toggleable__label {background-color: #d4ebff;}#sk-container-id-6 div.sk-serial::before {content: \"\";position: absolute;border-left: 1px solid gray;box-sizing: border-box;top: 0;bottom: 0;left: 50%;z-index: 0;}#sk-container-id-6 div.sk-serial {display: flex;flex-direction: column;align-items: center;background-color: white;padding-right: 0.2em;padding-left: 0.2em;position: relative;}#sk-container-id-6 div.sk-item {position: relative;z-index: 1;}#sk-container-id-6 div.sk-parallel {display: flex;align-items: stretch;justify-content: center;background-color: white;position: relative;}#sk-container-id-6 div.sk-item::before, #sk-container-id-6 div.sk-parallel-item::before {content: \"\";position: absolute;border-left: 1px solid gray;box-sizing: border-box;top: 0;bottom: 0;left: 50%;z-index: -1;}#sk-container-id-6 div.sk-parallel-item {display: flex;flex-direction: column;z-index: 1;position: relative;background-color: white;}#sk-container-id-6 div.sk-parallel-item:first-child::after {align-self: flex-end;width: 50%;}#sk-container-id-6 div.sk-parallel-item:last-child::after {align-self: flex-start;width: 50%;}#sk-container-id-6 div.sk-parallel-item:only-child::after {width: 0;}#sk-container-id-6 div.sk-dashed-wrapped {border: 1px dashed gray;margin: 0 0.4em 0.5em 0.4em;box-sizing: border-box;padding-bottom: 0.4em;background-color: white;}#sk-container-id-6 div.sk-label label {font-family: monospace;font-weight: bold;display: inline-block;line-height: 1.2em;}#sk-container-id-6 div.sk-label-container {text-align: center;}#sk-container-id-6 div.sk-container {/* jupyter's `normalize.less` sets `[hidden] { display: none; }` but bootstrap.min.css set `[hidden] { display: none !important; }` so we also need the `!important` here to be able to override the default hidden behavior on the sphinx rendered scikit-learn.org. See: https://github.com/scikit-learn/scikit-learn/issues/21755 */display: inline-block !important;position: relative;}#sk-container-id-6 div.sk-text-repr-fallback {display: none;}</style><div id=\"sk-container-id-6\" class=\"sk-top-container\"><div class=\"sk-text-repr-fallback\"><pre>LogisticRegression(C=4.623204945351239, max_iter=200)</pre><b>In a Jupyter environment, please rerun this cell to show the HTML representation or trust the notebook. <br />On GitHub, the HTML representation is unable to render, please try loading this page with nbviewer.org.</b></div><div class=\"sk-container\" hidden><div class=\"sk-item\"><div class=\"sk-estimator sk-toggleable\"><input class=\"sk-toggleable__control sk-hidden--visually\" id=\"sk-estimator-id-10\" type=\"checkbox\" checked><label for=\"sk-estimator-id-10\" class=\"sk-toggleable__label sk-toggleable__label-arrow\">LogisticRegression</label><div class=\"sk-toggleable__content\"><pre>LogisticRegression(C=4.623204945351239, max_iter=200)</pre></div></div></div></div></div>"
            ]
          },
          "metadata": {},
          "execution_count": 63
        }
      ]
    },
    {
      "cell_type": "markdown",
      "source": [
        "**Perform predictions on the test set and evaluate the accuracy of the model**"
      ],
      "metadata": {
        "id": "apiKLSdYYmDU"
      }
    },
    {
      "cell_type": "code",
      "source": [
        "predicted_labels_tfidf = optimal_clf.predict(tfidf_test_data)\n",
        "\n",
        "tfidf_acc = accuracy_score(y_test, predicted_labels_tfidf)\n",
        "print(\"Using TF-IDF features after hyper tuning:\", tfidf_acc)"
      ],
      "metadata": {
        "colab": {
          "base_uri": "https://localhost:8080/"
        },
        "id": "WJrfP3EcT_8N",
        "outputId": "ab95fc65-af7a-4189-f058-cf684f68892a"
      },
      "execution_count": null,
      "outputs": [
        {
          "output_type": "stream",
          "name": "stdout",
          "text": [
            "Using TF-IDF features after hyper tuning: 0.9\n"
          ]
        }
      ]
    },
    {
      "cell_type": "markdown",
      "source": [
        "**Logistic Regression model classification report**"
      ],
      "metadata": {
        "id": "sVGwbeNNc1or"
      }
    },
    {
      "cell_type": "code",
      "source": [
        "Logistic_Regression_CR = classification_report(y_test, predicted_labels_tfidf)\n",
        "print(Logistic_Regression_CR)\n"
      ],
      "metadata": {
        "colab": {
          "base_uri": "https://localhost:8080/"
        },
        "id": "WFJOZ91xcLvM",
        "outputId": "0600d1a1-a5b8-458a-a37e-dea1873dd846"
      },
      "execution_count": null,
      "outputs": [
        {
          "output_type": "stream",
          "name": "stdout",
          "text": [
            "              precision    recall  f1-score   support\n",
            "\n",
            "    negative       0.90      0.89      0.90      4978\n",
            "    positive       0.90      0.91      0.90      5022\n",
            "\n",
            "    accuracy                           0.90     10000\n",
            "   macro avg       0.90      0.90      0.90     10000\n",
            "weighted avg       0.90      0.90      0.90     10000\n",
            "\n"
          ]
        }
      ]
    },
    {
      "cell_type": "markdown",
      "source": [
        "Hyperparameter tuning is a essential phase in machine learning model development as it enables for the optimization of model performance. In the case of the Logistic Regression model used in this study, default hyperparameters resulted in an accuracy of 0.87. However, by conducting hyperparameter tuning, specifically adjusting the regularization parameter (C) and maximum number of iterations (max_iter), the model's performance significantly improved to an accuracy of 0.90. This demonstrates the effectiveness of hyperparameter optimization in capturing underlying data patterns and enhancing model performance. The tuned hyperparameters (C=4.623204945351239, max_iter=200) were found to be well-suited for the given dataset, highlighting the importance of fine-tuning models to achieve better predictive capabilities."
      ],
      "metadata": {
        "id": "gdw-sdxUgaM_"
      }
    },
    {
      "cell_type": "markdown",
      "source": [
        "**Multinomial Naive Bayes**"
      ],
      "metadata": {
        "id": "-ZM-db3hd7xX"
      }
    },
    {
      "cell_type": "code",
      "source": [
        "model = MultinomialNB()\n",
        "\n",
        "parameter_search_space = {'alpha': [0.1, 0.5, 1.0], 'fit_prior': [True, False] }\n",
        "\n",
        "hyperparameter_tuning = GridSearchCV(model, parameter_search_space, scoring='accuracy', cv=5)\n",
        "hyperparameter_tuning.fit(bow_train_data, y_train)"
      ],
      "metadata": {
        "colab": {
          "base_uri": "https://localhost:8080/",
          "height": 117
        },
        "id": "2p66SCuAHY26",
        "outputId": "afa2c92b-ee6c-4ee4-f0ce-e42dc38a8d9d"
      },
      "execution_count": null,
      "outputs": [
        {
          "output_type": "execute_result",
          "data": {
            "text/plain": [
              "GridSearchCV(cv=5, estimator=MultinomialNB(),\n",
              "             param_grid={'alpha': [0.1, 0.5, 1.0], 'fit_prior': [True, False]},\n",
              "             scoring='accuracy')"
            ],
            "text/html": [
              "<style>#sk-container-id-5 {color: black;background-color: white;}#sk-container-id-5 pre{padding: 0;}#sk-container-id-5 div.sk-toggleable {background-color: white;}#sk-container-id-5 label.sk-toggleable__label {cursor: pointer;display: block;width: 100%;margin-bottom: 0;padding: 0.3em;box-sizing: border-box;text-align: center;}#sk-container-id-5 label.sk-toggleable__label-arrow:before {content: \"▸\";float: left;margin-right: 0.25em;color: #696969;}#sk-container-id-5 label.sk-toggleable__label-arrow:hover:before {color: black;}#sk-container-id-5 div.sk-estimator:hover label.sk-toggleable__label-arrow:before {color: black;}#sk-container-id-5 div.sk-toggleable__content {max-height: 0;max-width: 0;overflow: hidden;text-align: left;background-color: #f0f8ff;}#sk-container-id-5 div.sk-toggleable__content pre {margin: 0.2em;color: black;border-radius: 0.25em;background-color: #f0f8ff;}#sk-container-id-5 input.sk-toggleable__control:checked~div.sk-toggleable__content {max-height: 200px;max-width: 100%;overflow: auto;}#sk-container-id-5 input.sk-toggleable__control:checked~label.sk-toggleable__label-arrow:before {content: \"▾\";}#sk-container-id-5 div.sk-estimator input.sk-toggleable__control:checked~label.sk-toggleable__label {background-color: #d4ebff;}#sk-container-id-5 div.sk-label input.sk-toggleable__control:checked~label.sk-toggleable__label {background-color: #d4ebff;}#sk-container-id-5 input.sk-hidden--visually {border: 0;clip: rect(1px 1px 1px 1px);clip: rect(1px, 1px, 1px, 1px);height: 1px;margin: -1px;overflow: hidden;padding: 0;position: absolute;width: 1px;}#sk-container-id-5 div.sk-estimator {font-family: monospace;background-color: #f0f8ff;border: 1px dotted black;border-radius: 0.25em;box-sizing: border-box;margin-bottom: 0.5em;}#sk-container-id-5 div.sk-estimator:hover {background-color: #d4ebff;}#sk-container-id-5 div.sk-parallel-item::after {content: \"\";width: 100%;border-bottom: 1px solid gray;flex-grow: 1;}#sk-container-id-5 div.sk-label:hover label.sk-toggleable__label {background-color: #d4ebff;}#sk-container-id-5 div.sk-serial::before {content: \"\";position: absolute;border-left: 1px solid gray;box-sizing: border-box;top: 0;bottom: 0;left: 50%;z-index: 0;}#sk-container-id-5 div.sk-serial {display: flex;flex-direction: column;align-items: center;background-color: white;padding-right: 0.2em;padding-left: 0.2em;position: relative;}#sk-container-id-5 div.sk-item {position: relative;z-index: 1;}#sk-container-id-5 div.sk-parallel {display: flex;align-items: stretch;justify-content: center;background-color: white;position: relative;}#sk-container-id-5 div.sk-item::before, #sk-container-id-5 div.sk-parallel-item::before {content: \"\";position: absolute;border-left: 1px solid gray;box-sizing: border-box;top: 0;bottom: 0;left: 50%;z-index: -1;}#sk-container-id-5 div.sk-parallel-item {display: flex;flex-direction: column;z-index: 1;position: relative;background-color: white;}#sk-container-id-5 div.sk-parallel-item:first-child::after {align-self: flex-end;width: 50%;}#sk-container-id-5 div.sk-parallel-item:last-child::after {align-self: flex-start;width: 50%;}#sk-container-id-5 div.sk-parallel-item:only-child::after {width: 0;}#sk-container-id-5 div.sk-dashed-wrapped {border: 1px dashed gray;margin: 0 0.4em 0.5em 0.4em;box-sizing: border-box;padding-bottom: 0.4em;background-color: white;}#sk-container-id-5 div.sk-label label {font-family: monospace;font-weight: bold;display: inline-block;line-height: 1.2em;}#sk-container-id-5 div.sk-label-container {text-align: center;}#sk-container-id-5 div.sk-container {/* jupyter's `normalize.less` sets `[hidden] { display: none; }` but bootstrap.min.css set `[hidden] { display: none !important; }` so we also need the `!important` here to be able to override the default hidden behavior on the sphinx rendered scikit-learn.org. See: https://github.com/scikit-learn/scikit-learn/issues/21755 */display: inline-block !important;position: relative;}#sk-container-id-5 div.sk-text-repr-fallback {display: none;}</style><div id=\"sk-container-id-5\" class=\"sk-top-container\"><div class=\"sk-text-repr-fallback\"><pre>GridSearchCV(cv=5, estimator=MultinomialNB(),\n",
              "             param_grid={&#x27;alpha&#x27;: [0.1, 0.5, 1.0], &#x27;fit_prior&#x27;: [True, False]},\n",
              "             scoring=&#x27;accuracy&#x27;)</pre><b>In a Jupyter environment, please rerun this cell to show the HTML representation or trust the notebook. <br />On GitHub, the HTML representation is unable to render, please try loading this page with nbviewer.org.</b></div><div class=\"sk-container\" hidden><div class=\"sk-item sk-dashed-wrapped\"><div class=\"sk-label-container\"><div class=\"sk-label sk-toggleable\"><input class=\"sk-toggleable__control sk-hidden--visually\" id=\"sk-estimator-id-7\" type=\"checkbox\" ><label for=\"sk-estimator-id-7\" class=\"sk-toggleable__label sk-toggleable__label-arrow\">GridSearchCV</label><div class=\"sk-toggleable__content\"><pre>GridSearchCV(cv=5, estimator=MultinomialNB(),\n",
              "             param_grid={&#x27;alpha&#x27;: [0.1, 0.5, 1.0], &#x27;fit_prior&#x27;: [True, False]},\n",
              "             scoring=&#x27;accuracy&#x27;)</pre></div></div></div><div class=\"sk-parallel\"><div class=\"sk-parallel-item\"><div class=\"sk-item\"><div class=\"sk-label-container\"><div class=\"sk-label sk-toggleable\"><input class=\"sk-toggleable__control sk-hidden--visually\" id=\"sk-estimator-id-8\" type=\"checkbox\" ><label for=\"sk-estimator-id-8\" class=\"sk-toggleable__label sk-toggleable__label-arrow\">estimator: MultinomialNB</label><div class=\"sk-toggleable__content\"><pre>MultinomialNB()</pre></div></div></div><div class=\"sk-serial\"><div class=\"sk-item\"><div class=\"sk-estimator sk-toggleable\"><input class=\"sk-toggleable__control sk-hidden--visually\" id=\"sk-estimator-id-9\" type=\"checkbox\" ><label for=\"sk-estimator-id-9\" class=\"sk-toggleable__label sk-toggleable__label-arrow\">MultinomialNB</label><div class=\"sk-toggleable__content\"><pre>MultinomialNB()</pre></div></div></div></div></div></div></div></div></div></div>"
            ]
          },
          "metadata": {},
          "execution_count": 42
        }
      ]
    },
    {
      "cell_type": "code",
      "source": [
        "optimal_parameters = hyperparameter_tuning.best_params_\n",
        "\n",
        "optimal_model = MultinomialNB(**optimal_parameters)\n",
        "optimal_model.fit(bow_train_data, y_train)\n",
        "\n",
        "print(\"optimal_parameters for Multinomial Naive Bayes :\", optimal_parameters)"
      ],
      "metadata": {
        "colab": {
          "base_uri": "https://localhost:8080/"
        },
        "id": "3VT_xwsBbL7v",
        "outputId": "50babc09-67dd-49c8-bf05-c11e850d1585"
      },
      "execution_count": null,
      "outputs": [
        {
          "output_type": "stream",
          "name": "stdout",
          "text": [
            "optimal_parameters for Multinomial Naive Bayes : {'alpha': 0.5, 'fit_prior': True}\n"
          ]
        }
      ]
    },
    {
      "cell_type": "code",
      "source": [
        "predicted_labels_bow = optimal_model.predict(bow_test_data)\n",
        "\n",
        "bow_acc = accuracy_score(y_test, predicted_labels_bow)\n",
        "print(\"Using Bag-of-Words representation after hyper tuning::\", bow_acc)"
      ],
      "metadata": {
        "colab": {
          "base_uri": "https://localhost:8080/"
        },
        "id": "4j4OSCJudMX-",
        "outputId": "b118ccf5-4541-4472-c94f-a8043301c1dd"
      },
      "execution_count": null,
      "outputs": [
        {
          "output_type": "stream",
          "name": "stdout",
          "text": [
            "Using Bag-of-Words representation after hyper tuning:: 0.8642\n"
          ]
        }
      ]
    },
    {
      "cell_type": "markdown",
      "source": [
        "In the context of the Multinomial Naive Bayes classifier, hyperparameter tuning was performed to optimize its performance. The initial accuracy of the classifier was observed to be 0.86, which remained unchanged even after hyperparameter tuning. The best hyperparameters identified for the classifier were {'alpha': 1.0, 'fit_prior': True}. Despite not achieving a higher accuracy through hyperparameter tuning, this process allowed for a comprehensive exploration of different parameter combinations to find the optimal settings for the model. While the accuracy remained the same, hyperparameter tuning helps to ensure that the classifier is fine-tuned and well-suited for the specific problem domain, potentially improving performance on other evaluation metrics or in different datasets"
      ],
      "metadata": {
        "id": "sJvNBgTth8Kn"
      }
    },
    {
      "cell_type": "markdown",
      "source": [
        "# **Conclusion**"
      ],
      "metadata": {
        "id": "lmbIFc3ZrZMY"
      }
    },
    {
      "cell_type": "markdown",
      "source": [
        "we addressed the task of sentiment analysis on customer reviews, aiming to gain insights into customer satisfaction and improve business operations. The dataset was obtained from Kaggle.com and comprised customer reviews from various sources, such as social media platforms and online review websites.\n",
        "\n",
        "We designed an NLP pipeline consisting of data preprocessing, feature extraction, model training, and evaluation steps. We explored two different approaches for sentiment analysis: Logistic Regression and Multinomial Naive Bayes. The initial accuracy of the models was 0.87 for Logistic Regression and 0.86 for Multinomial Naive Bayes.\n",
        "\n",
        "To improve the models' performance, we performed hyperparameter tuning. For Logistic Regression, we fine-tuned the hyperparameters and achieved an improved accuracy of 0.89. However, the accuracy of the Multinomial Naive Bayes model remained at 0.86 even after hyperparameter tuning.\n",
        "\n",
        "The NLP pipeline demonstrated its effectiveness in sentiment analysis on customer reviews. The Logistic Regression model, after hyperparameter tuning, achieved a slightly higher accuracy compared to the default hyperparameters. The Multinomial Naive Bayes model, on the other hand, maintained a similar accuracy throughout the tuning process.\n",
        "\n",
        "It is important to note that while the pipeline yielded satisfactory results, further exploration of advanced techniques, such as RNNs and Transformer-based architectures like BERT, could potentially improve the accuracy further. Additionally, the dataset obtained from Kaggle.com may have certain limitations, such as potential biases or domain-specific characteristics, which could affect the generalizability of the models to other datasets or real-world scenarios.\n",
        "\n",
        "In conclusion, this NLP pipeline using Logistic Regression and Multinomial Naive Bayes models provided insights into customer sentiment based on customer reviews. The achieved accuracies of 0.90 and 0.86, respectively, indicate the models' ability to classify sentiment with reasonable accuracy. These findings can aid in improving customer satisfaction, pinpointing areas for enhancement, and guiding data-informed decision-making by analyzing customer reviews for sentiment analysis."
      ],
      "metadata": {
        "id": "loWHtkGFkMQi"
      }
    },
    {
      "cell_type": "code",
      "source": [
        "!jupyter nbconvert --to html sentiment_analysis_M508.ipynb"
      ],
      "metadata": {
        "colab": {
          "base_uri": "https://localhost:8080/"
        },
        "id": "jiKSYmSJro_3",
        "outputId": "9801de92-f1a4-48f4-b730-882d07fa724a"
      },
      "execution_count": null,
      "outputs": [
        {
          "output_type": "stream",
          "name": "stdout",
          "text": [
            "[NbConvertApp] Converting notebook sentiment_analysis_M508.ipynb to html\n",
            "[NbConvertApp] Writing 928512 bytes to sentiment_analysis_M508.html\n"
          ]
        }
      ]
    }
  ]
}